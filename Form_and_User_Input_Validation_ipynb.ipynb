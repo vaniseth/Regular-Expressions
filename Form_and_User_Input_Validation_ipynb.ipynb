{
  "nbformat": 4,
  "nbformat_minor": 0,
  "metadata": {
    "colab": {
      "name": "Form and User Input Validation ipynb",
      "provenance": [],
      "authorship_tag": "ABX9TyMtTVX37rG2+SM6/qsJETVg",
      "include_colab_link": true
    },
    "kernelspec": {
      "name": "python3",
      "display_name": "Python 3"
    },
    "language_info": {
      "name": "python"
    }
  },
  "cells": [
    {
      "cell_type": "markdown",
      "metadata": {
        "id": "view-in-github",
        "colab_type": "text"
      },
      "source": [
        "<a href=\"https://colab.research.google.com/github/vaniseth/Regular-Expressions/blob/main/Form_and_User_Input_Validation_ipynb.ipynb\" target=\"_parent\"><img src=\"https://colab.research.google.com/assets/colab-badge.svg\" alt=\"Open In Colab\"/></a>"
      ]
    },
    {
      "cell_type": "markdown",
      "source": [
        "# **Task 4: USER INPUT**\n"
      ],
      "metadata": {
        "id": "WclNICBUBa8X"
      }
    },
    {
      "cell_type": "markdown",
      "source": [
        "**Time Format Validation**\n",
        "\n",
        "A web app calculates health statistics based on the sleep duration of your users. Your users enter the time they went to bed and the time they wake up.\n",
        "\n",
        "Eg for correct time format is 12:45.\n",
        "\n",
        "**Q:** Write a time-format checker that determines whether the input is worth processing further with your backend application."
      ],
      "metadata": {
        "id": "BErZgD-8BdWk"
      }
    },
    {
      "cell_type": "code",
      "execution_count": 1,
      "metadata": {
        "id": "kfEwiM8OBYHg"
      },
      "outputs": [],
      "source": [
        "input1 = '12:455'"
      ]
    },
    {
      "cell_type": "code",
      "source": [
        "import re\n",
        "print (re.fullmatch('[0-9]{2} : [0-9]{2}', input1))\n",
        "# this is a simple regex that states tht there should be a 2 digit number from 0-9 and then a colon (:) and then again a 2 digit number from 0-9.\n",
        "# if the answer comes as none then it is not in the correct format."
      ],
      "metadata": {
        "colab": {
          "base_uri": "https://localhost:8080/"
        },
        "id": "M3oEYbhyBgFB",
        "outputId": "9e173446-6bca-4d00-c2db-5148cb7eb1c7"
      },
      "execution_count": 2,
      "outputs": [
        {
          "output_type": "stream",
          "name": "stdout",
          "text": [
            "None\n"
          ]
        }
      ]
    },
    {
      "cell_type": "code",
      "source": [
        "input2 = '12:48'\n"
      ],
      "metadata": {
        "id": "uQ3D_VnzBhPb"
      },
      "execution_count": 3,
      "outputs": []
    },
    {
      "cell_type": "code",
      "source": [
        "print( re.fullmatch('[0-9]{2}:[0-9]{2}', input2 ))\n"
      ],
      "metadata": {
        "colab": {
          "base_uri": "https://localhost:8080/"
        },
        "id": "3_Og-IgNBih9",
        "outputId": "2ff6e224-dd8b-4719-cc21-93e9aa3a018e"
      },
      "execution_count": 4,
      "outputs": [
        {
          "output_type": "stream",
          "name": "stdout",
          "text": [
            "<re.Match object; span=(0, 5), match='12:48'>\n"
          ]
        }
      ]
    },
    {
      "cell_type": "code",
      "source": [
        "inputs = ['18:29', '23:55', '123', 'ab:de', '12:299', '99:99']"
      ],
      "metadata": {
        "id": "T7PY9GRABwm0"
      },
      "execution_count": 6,
      "outputs": []
    },
    {
      "cell_type": "code",
      "source": [
        "#creating a list comprehension to check for each element in the list inputs.\n",
        "\n",
        "[re.fullmatch('[0-9]{2}:[0-9]{2}',x) for x in inputs ]"
      ],
      "metadata": {
        "colab": {
          "base_uri": "https://localhost:8080/"
        },
        "id": "XQYk0dNmBjnI",
        "outputId": "b9060548-c360-4ca3-ca53-7d3af55f3263"
      },
      "execution_count": 7,
      "outputs": [
        {
          "output_type": "execute_result",
          "data": {
            "text/plain": [
              "[<re.Match object; span=(0, 5), match='18:29'>,\n",
              " <re.Match object; span=(0, 5), match='23:55'>,\n",
              " None,\n",
              " None,\n",
              " None,\n",
              " <re.Match object; span=(0, 5), match='99:99'>]"
            ]
          },
          "metadata": {},
          "execution_count": 7
        }
      ]
    },
    {
      "cell_type": "markdown",
      "source": [
        "**Now, the given time must be a valid time format in the 24-hour time ranging from 00:00 to 23:59.**"
      ],
      "metadata": {
        "id": "xiHHdGRsBr3f"
      }
    },
    {
      "cell_type": "code",
      "source": [
        "regex = '([01][0-9]|2[0-3]):([0-5][0-9])'\n",
        "\n",
        "# group after the colon should be between 0-5 and 0-9"
      ],
      "metadata": {
        "id": "vrZ0oQGCBk9K"
      },
      "execution_count": 8,
      "outputs": []
    },
    {
      "cell_type": "code",
      "source": [
        "[re.fullmatch(regex,x) for x in inputs ]"
      ],
      "metadata": {
        "colab": {
          "base_uri": "https://localhost:8080/"
        },
        "id": "_7BPZRFXB1XD",
        "outputId": "8c80f9cc-5ea1-4fa0-fb5a-a858392f7fd6"
      },
      "execution_count": 9,
      "outputs": [
        {
          "output_type": "execute_result",
          "data": {
            "text/plain": [
              "[<re.Match object; span=(0, 5), match='18:29'>,\n",
              " <re.Match object; span=(0, 5), match='23:55'>,\n",
              " None,\n",
              " None,\n",
              " None,\n",
              " None]"
            ]
          },
          "metadata": {},
          "execution_count": 9
        }
      ]
    },
    {
      "cell_type": "markdown",
      "source": [
        "**Email Validation**"
      ],
      "metadata": {
        "id": "3nJa_Xg7B8H0"
      }
    },
    {
      "cell_type": "code",
      "source": [
        "import re\n"
      ],
      "metadata": {
        "id": "8zKeinOtB3D8"
      },
      "execution_count": 10,
      "outputs": []
    },
    {
      "cell_type": "code",
      "source": [
        "input = ['vaniseth05@gmail.com', 'n_kratijain22@gmail.com', 'p.prats03@gmail.com']"
      ],
      "metadata": {
        "id": "_EehPqK5B-BW"
      },
      "execution_count": 11,
      "outputs": []
    },
    {
      "cell_type": "code",
      "source": [
        "regex = '^(\\w|\\.|\\_|\\-)+[@]+\\w+[.]\\w{2,3}$'\n",
        "\n",
        "# \\w is for alphanumeric characters\n",
        "# + before [@] is that we can have one or more occurance of \\w |\\.|\\-\n",
        "# | this denotes or\n",
        "# {2,3} means that we need 2 or 3 charcters in the end"
      ],
      "metadata": {
        "id": "j2SVIEN8B_3P"
      },
      "execution_count": 12,
      "outputs": []
    },
    {
      "cell_type": "code",
      "source": [
        "[re.fullmatch(regex, x) for x in input]"
      ],
      "metadata": {
        "colab": {
          "base_uri": "https://localhost:8080/"
        },
        "id": "0BILHiQKCBi1",
        "outputId": "593508ca-a8a4-4ac1-de6f-a21a57ed9be8"
      },
      "execution_count": 13,
      "outputs": [
        {
          "output_type": "execute_result",
          "data": {
            "text/plain": [
              "[<re.Match object; span=(0, 20), match='vaniseth05@gmail.com'>,\n",
              " <re.Match object; span=(0, 23), match='n_kratijain22@gmail.com'>,\n",
              " <re.Match object; span=(0, 19), match='p.prats03@gmail.com'>]"
            ]
          },
          "metadata": {},
          "execution_count": 13
        }
      ]
    },
    {
      "cell_type": "code",
      "source": [
        "input1 = ['vani$$seth05@gmail.com', 'n_kratijain22@gmail.coma', 'p.prats03@gmail.com']"
      ],
      "metadata": {
        "id": "j67qnmEUCCvi"
      },
      "execution_count": 14,
      "outputs": []
    },
    {
      "cell_type": "code",
      "source": [
        "regex = '^(\\w|\\.|_|-)+[@]+\\w+[.]\\w{2,3}$'"
      ],
      "metadata": {
        "id": "FAtuX0mjCEgk"
      },
      "execution_count": 15,
      "outputs": []
    },
    {
      "cell_type": "code",
      "source": [
        "[re.fullmatch(regex, x) for x in input1]"
      ],
      "metadata": {
        "colab": {
          "base_uri": "https://localhost:8080/"
        },
        "id": "0GQ-KVjiCFtY",
        "outputId": "6dd5439e-1d00-4655-cd1e-ac74b3f2e873"
      },
      "execution_count": 16,
      "outputs": [
        {
          "output_type": "execute_result",
          "data": {
            "text/plain": [
              "[None, None, <re.Match object; span=(0, 19), match='p.prats03@gmail.com'>]"
            ]
          },
          "metadata": {},
          "execution_count": 16
        }
      ]
    },
    {
      "cell_type": "markdown",
      "source": [
        "**USERNAME VALIDATION**\n",
        "\n",
        "User name is chaarcter only allowing for underscore ( _ ) and the period ( . ) only."
      ],
      "metadata": {
        "id": "xOxdO37-CRRG"
      }
    },
    {
      "cell_type": "code",
      "source": [
        "inputs = ['vaani', 'v_vaani', 'v.vaani_s', 'v.vaani_05']"
      ],
      "metadata": {
        "id": "Gz6-qZU2CHYt"
      },
      "execution_count": 17,
      "outputs": []
    },
    {
      "cell_type": "code",
      "source": [
        "regex = '^[a-zA-Z_.]+$'"
      ],
      "metadata": {
        "id": "rFcrDuzYCTmO"
      },
      "execution_count": 18,
      "outputs": []
    },
    {
      "cell_type": "code",
      "source": [
        "[re.fullmatch(regex, x) for x in inputs]"
      ],
      "metadata": {
        "colab": {
          "base_uri": "https://localhost:8080/"
        },
        "id": "_zKEIbAVCVjX",
        "outputId": "ce95a4b0-5db5-4091-d2fc-4fe844a97f2c"
      },
      "execution_count": 19,
      "outputs": [
        {
          "output_type": "execute_result",
          "data": {
            "text/plain": [
              "[<re.Match object; span=(0, 5), match='vaani'>,\n",
              " <re.Match object; span=(0, 7), match='v_vaani'>,\n",
              " <re.Match object; span=(0, 9), match='v.vaani_s'>,\n",
              " None]"
            ]
          },
          "metadata": {},
          "execution_count": 19
        }
      ]
    },
    {
      "cell_type": "code",
      "source": [
        "# last one is not a match cause we don't allow any digit"
      ],
      "metadata": {
        "id": "ExVpLL6yCXKh"
      },
      "execution_count": null,
      "outputs": []
    }
  ]
}