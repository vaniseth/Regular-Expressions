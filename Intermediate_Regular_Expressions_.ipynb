{
  "nbformat": 4,
  "nbformat_minor": 0,
  "metadata": {
    "colab": {
      "name": "Intermediate Regular Expressions .ipynb",
      "provenance": [],
      "authorship_tag": "ABX9TyMwRKeWHSUEVpm55yMpvd0c",
      "include_colab_link": true
    },
    "kernelspec": {
      "name": "python3",
      "display_name": "Python 3"
    },
    "language_info": {
      "name": "python"
    }
  },
  "cells": [
    {
      "cell_type": "markdown",
      "metadata": {
        "id": "view-in-github",
        "colab_type": "text"
      },
      "source": [
        "<a href=\"https://colab.research.google.com/github/vaniseth/Regular-Expressions/blob/main/Intermediate_Regular_Expressions_.ipynb\" target=\"_parent\"><img src=\"https://colab.research.google.com/assets/colab-badge.svg\" alt=\"Open In Colab\"/></a>"
      ]
    },
    {
      "cell_type": "markdown",
      "source": [
        "# Sets\n",
        "A set is a set of charcters or a list of chataters inside a pair of square brackets [  ]\n",
        "\n",
        "\n"
      ],
      "metadata": {
        "id": "WRbEIM4a_Gh2"
      }
    },
    {
      "cell_type": "markdown",
      "source": [
        "eg: [arm], now if we search for this then the search function will return a match if any one of the characters \"a\", \"r\", or \"m\" are present in the string.\n",
        "\n",
        "we can add a range by using \" - \" \n",
        "\n",
        "[a-n] will match any lowercase character between a to n.\n",
        "\n",
        "[^a-n] this will give all the charcters except (a-n).  \n",
        "\n",
        "The  \" ^ \" sign between the square brackets here is equivalent of saying no so, [^a-n] means not (a-n).\n",
        "\n",
        "^[a-n] will mean the same, it says that it want to check at the beginning of the string."
      ],
      "metadata": {
        "id": "Z7iveasO_dy3"
      }
    },
    {
      "cell_type": "markdown",
      "source": [
        "[0145]\n",
        "\n",
        "[0-9] : gives the range\n",
        "\n",
        "[0-5][0-9] : the search function here will return the match between 00 and 59.\n",
        "\n",
        "[a-Z] : all the characters (a-z) in both lower and upper case."
      ],
      "metadata": {
        "id": "Vt79iTvr_hmR"
      }
    },
    {
      "cell_type": "code",
      "execution_count": 1,
      "metadata": {
        "id": "E5QKBB7S--Jc"
      },
      "outputs": [],
      "source": [
        "import re\n",
        "str = \"dogs are adorable\""
      ]
    },
    {
      "cell_type": "code",
      "source": [
        "re.search('[a-d]', str)"
      ],
      "metadata": {
        "colab": {
          "base_uri": "https://localhost:8080/"
        },
        "id": "BZVq6Z5B_l8H",
        "outputId": "ffd7ab2a-56f6-47a8-f1b7-be3ae5a281c9"
      },
      "execution_count": 2,
      "outputs": [
        {
          "output_type": "execute_result",
          "data": {
            "text/plain": [
              "<re.Match object; span=(0, 1), match='d'>"
            ]
          },
          "metadata": {},
          "execution_count": 2
        }
      ]
    },
    {
      "cell_type": "code",
      "source": [
        "re.findall('[a-d]', str)\n",
        "\n",
        "#gives all the characters presetn between a and d in the string."
      ],
      "metadata": {
        "colab": {
          "base_uri": "https://localhost:8080/"
        },
        "id": "bKXVouAv_nmj",
        "outputId": "4536340f-70c6-4494-f297-c3227641c2b1"
      },
      "execution_count": 3,
      "outputs": [
        {
          "output_type": "execute_result",
          "data": {
            "text/plain": [
              "['d', 'a', 'a', 'd', 'a', 'b']"
            ]
          },
          "metadata": {},
          "execution_count": 3
        }
      ]
    },
    {
      "cell_type": "code",
      "source": [
        "re.findall('[a-d]', 'all the flowers are beautiful')"
      ],
      "metadata": {
        "colab": {
          "base_uri": "https://localhost:8080/"
        },
        "id": "HP41mojt_o9M",
        "outputId": "62c5f962-9f6b-49b5-fc01-e768a96384b8"
      },
      "execution_count": 4,
      "outputs": [
        {
          "output_type": "execute_result",
          "data": {
            "text/plain": [
              "['a', 'a', 'b', 'a']"
            ]
          },
          "metadata": {},
          "execution_count": 4
        }
      ]
    },
    {
      "cell_type": "markdown",
      "source": [
        "# Special Squences\n",
        "\n",
        "\\d \\w \n",
        "\n",
        "\\d : returns a match if there is any digit. This is equivalent to [0-9]\n",
        "\n",
        "\\w : reutns a match when the string contains anty character, i.e, digits, numbers or any underscore. This is equivalent to [0-9a-Z_]"
      ],
      "metadata": {
        "id": "Fh3U99S4_toy"
      }
    },
    {
      "cell_type": "code",
      "source": [
        "re.search('\\d', 'my password is pass1234')"
      ],
      "metadata": {
        "colab": {
          "base_uri": "https://localhost:8080/"
        },
        "id": "EakeT7pD_sQL",
        "outputId": "0c062368-eb2a-4794-dc4b-04083246daa9"
      },
      "execution_count": 5,
      "outputs": [
        {
          "output_type": "execute_result",
          "data": {
            "text/plain": [
              "<re.Match object; span=(19, 20), match='1'>"
            ]
          },
          "metadata": {},
          "execution_count": 5
        }
      ]
    },
    {
      "cell_type": "code",
      "source": [
        "re.findall('\\d', 'my password is pass1234')"
      ],
      "metadata": {
        "colab": {
          "base_uri": "https://localhost:8080/"
        },
        "id": "VE-dOE8I_wmY",
        "outputId": "c935be22-bf2f-416d-8e86-c68614691cf6"
      },
      "execution_count": 6,
      "outputs": [
        {
          "output_type": "execute_result",
          "data": {
            "text/plain": [
              "['1', '2', '3', '4']"
            ]
          },
          "metadata": {},
          "execution_count": 6
        }
      ]
    },
    {
      "cell_type": "code",
      "source": [
        "re.findall('\\w', 'my password is pass_1234 ??')"
      ],
      "metadata": {
        "colab": {
          "base_uri": "https://localhost:8080/"
        },
        "id": "oYczjRjZ_xzl",
        "outputId": "92d3e61b-946d-4d70-cf14-785b02b13286"
      },
      "execution_count": 7,
      "outputs": [
        {
          "output_type": "execute_result",
          "data": {
            "text/plain": [
              "['m',\n",
              " 'y',\n",
              " 'p',\n",
              " 'a',\n",
              " 's',\n",
              " 's',\n",
              " 'w',\n",
              " 'o',\n",
              " 'r',\n",
              " 'd',\n",
              " 'i',\n",
              " 's',\n",
              " 'p',\n",
              " 'a',\n",
              " 's',\n",
              " 's',\n",
              " '_',\n",
              " '1',\n",
              " '2',\n",
              " '3',\n",
              " '4']"
            ]
          },
          "metadata": {},
          "execution_count": 7
        }
      ]
    }
  ]
}