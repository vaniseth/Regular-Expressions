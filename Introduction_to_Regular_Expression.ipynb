{
  "nbformat": 4,
  "nbformat_minor": 0,
  "metadata": {
    "colab": {
      "name": "Introduction to Regular Expression.ipynb",
      "provenance": [],
      "authorship_tag": "ABX9TyOJ8s6B3Tq/5C0dYkVEcdAH",
      "include_colab_link": true
    },
    "kernelspec": {
      "name": "python3",
      "display_name": "Python 3"
    },
    "language_info": {
      "name": "python"
    }
  },
  "cells": [
    {
      "cell_type": "markdown",
      "metadata": {
        "id": "view-in-github",
        "colab_type": "text"
      },
      "source": [
        "<a href=\"https://colab.research.google.com/github/vaniseth/Regular-Expressions/blob/main/Introduction_to_Regular_Expression.ipynb\" target=\"_parent\"><img src=\"https://colab.research.google.com/assets/colab-badge.svg\" alt=\"Open In Colab\"/></a>"
      ]
    },
    {
      "cell_type": "markdown",
      "source": [
        "#Metacharacters\n",
        "\n",
        "We are using 2 metachacters here. ^ and $.\n",
        "\n",
        "^ : this is used to search a pattern at the start of the string.\n",
        "\n",
        "$ : this is used to search a pattern at the end of the string."
      ],
      "metadata": {
        "id": "ubvQfMBg8-ZP"
      }
    },
    {
      "cell_type": "code",
      "execution_count": null,
      "metadata": {
        "id": "GHiYLoxV8zGm"
      },
      "outputs": [],
      "source": [
        "import re"
      ]
    },
    {
      "cell_type": "code",
      "source": [
        " str = \"Dogs are adorable\""
      ],
      "metadata": {
        "id": "P2A6dVIK8_DW"
      },
      "execution_count": null,
      "outputs": []
    },
    {
      "cell_type": "code",
      "source": [
        "# We create a pattern and a pattern is always between quotes, i.e, pattern = ' ____ '."
      ],
      "metadata": {
        "id": "HRY8eCOx9H3E"
      },
      "execution_count": null,
      "outputs": []
    },
    {
      "cell_type": "code",
      "source": [
        "pattern = '^Dogs'"
      ],
      "metadata": {
        "id": "MfpFcpd99Qjb"
      },
      "execution_count": null,
      "outputs": []
    },
    {
      "cell_type": "code",
      "source": [
        "re.search(pattern, str)"
      ],
      "metadata": {
        "colab": {
          "base_uri": "https://localhost:8080/"
        },
        "id": "eaYE0Rug9XRe",
        "outputId": "8c1ce701-9d8c-4edb-ad35-694bd92fece7"
      },
      "execution_count": null,
      "outputs": [
        {
          "output_type": "execute_result",
          "data": {
            "text/plain": [
              "<re.Match object; span=(0, 4), match='Dogs'>"
            ]
          },
          "metadata": {},
          "execution_count": 5
        }
      ]
    },
    {
      "cell_type": "code",
      "source": [
        "p2 = 'Dogs$'"
      ],
      "metadata": {
        "id": "27wBzeIv9Zl3"
      },
      "execution_count": null,
      "outputs": []
    },
    {
      "cell_type": "code",
      "source": [
        "print(re.search(p2, str))"
      ],
      "metadata": {
        "colab": {
          "base_uri": "https://localhost:8080/"
        },
        "id": "UboJQhMt9cDu",
        "outputId": "6a614737-b18a-413d-9603-9ecb0021e646"
      },
      "execution_count": null,
      "outputs": [
        {
          "output_type": "stream",
          "name": "stdout",
          "text": [
            "None\n"
          ]
        }
      ]
    },
    {
      "cell_type": "markdown",
      "source": [
        "#Quantifiers\n",
        "We are learning about 3 quantifiers ? + *\n",
        "\n",
        "? : meaning the 0 or 1 occurance of the preceeding element.\n",
        "\n",
        "+: meaning that there should be one or more occurance of the preceeding element."
      ],
      "metadata": {
        "id": "ydrsixmx9gxz"
      }
    },
    {
      "cell_type": "code",
      "source": [
        "str2 = 'colour'\n",
        "str3 = 'color'"
      ],
      "metadata": {
        "id": "OY0_RhKY9edA"
      },
      "execution_count": null,
      "outputs": []
    },
    {
      "cell_type": "code",
      "source": [
        "re.search('colou?r', str2)"
      ],
      "metadata": {
        "colab": {
          "base_uri": "https://localhost:8080/"
        },
        "id": "9YahATsN9i9e",
        "outputId": "c65b0bbc-7465-4964-d865-d8a596eea472"
      },
      "execution_count": null,
      "outputs": [
        {
          "output_type": "execute_result",
          "data": {
            "text/plain": [
              "<re.Match object; span=(0, 6), match='colour'>"
            ]
          },
          "metadata": {},
          "execution_count": 9
        }
      ]
    },
    {
      "cell_type": "code",
      "source": [
        "re.search('colou?r', str3)\n",
        "\n",
        "# The character before the ? is optional and we check that here."
      ],
      "metadata": {
        "colab": {
          "base_uri": "https://localhost:8080/"
        },
        "id": "jyGS2K5T9kOl",
        "outputId": "5a565dfb-7da0-4371-a0c6-dae2348fc8b4"
      },
      "execution_count": null,
      "outputs": [
        {
          "output_type": "execute_result",
          "data": {
            "text/plain": [
              "<re.Match object; span=(0, 5), match='color'>"
            ]
          },
          "metadata": {},
          "execution_count": 11
        }
      ]
    },
    {
      "cell_type": "code",
      "source": [
        "str4 = 'ac'\n",
        "str5 = 'abc'\n",
        "str6 = 'abbc'"
      ],
      "metadata": {
        "id": "pan9I_-z9nQh"
      },
      "execution_count": null,
      "outputs": []
    },
    {
      "cell_type": "code",
      "source": [
        "print(re.search('ab+c',str4))\n",
        "\n",
        "# '+' says that there should be 1 b or more b's to return a match."
      ],
      "metadata": {
        "colab": {
          "base_uri": "https://localhost:8080/"
        },
        "id": "0kzAmtY09vu4",
        "outputId": "728ed25e-88ae-49be-c887-3859958e1e7f"
      },
      "execution_count": null,
      "outputs": [
        {
          "output_type": "stream",
          "name": "stdout",
          "text": [
            "None\n"
          ]
        }
      ]
    },
    {
      "cell_type": "code",
      "source": [
        "re.search('ab+c', str5)"
      ],
      "metadata": {
        "id": "SQXSj23r95Po",
        "outputId": "675dc6f6-99f4-48cf-9d9b-1825fd90a79c",
        "colab": {
          "base_uri": "https://localhost:8080/"
        }
      },
      "execution_count": null,
      "outputs": [
        {
          "output_type": "execute_result",
          "data": {
            "text/plain": [
              "<re.Match object; span=(0, 3), match='abc'>"
            ]
          },
          "metadata": {},
          "execution_count": 14
        }
      ]
    },
    {
      "cell_type": "code",
      "source": [
        "re.search('ab+c', str6)"
      ],
      "metadata": {
        "id": "QBWnq12L97Mu",
        "outputId": "7964b0e3-20d9-4558-e350-5faa95ee4d59",
        "colab": {
          "base_uri": "https://localhost:8080/"
        }
      },
      "execution_count": null,
      "outputs": [
        {
          "output_type": "execute_result",
          "data": {
            "text/plain": [
              "<re.Match object; span=(0, 4), match='abbc'>"
            ]
          },
          "metadata": {},
          "execution_count": 15
        }
      ]
    },
    {
      "cell_type": "markdown",
      "source": [
        "# Metacharacters (2)\n",
        "There are two more metachacters - and  .\n",
        "\n",
        "Hyphen (-) : it means the range \n",
        "\n",
        "Period (.) : used to find any single character except the new line"
      ],
      "metadata": {
        "id": "GCEG14Af_OOC"
      }
    }
  ]
}