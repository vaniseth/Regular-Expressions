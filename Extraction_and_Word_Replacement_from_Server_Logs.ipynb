{
  "nbformat": 4,
  "nbformat_minor": 0,
  "metadata": {
    "colab": {
      "name": "Extraction and Word Replacement from Server Logs.ipynb",
      "provenance": [],
      "authorship_tag": "ABX9TyN+WU7rN/Oh/MxV0lcO2qn7",
      "include_colab_link": true
    },
    "kernelspec": {
      "name": "python3",
      "display_name": "Python 3"
    },
    "language_info": {
      "name": "python"
    }
  },
  "cells": [
    {
      "cell_type": "markdown",
      "metadata": {
        "id": "view-in-github",
        "colab_type": "text"
      },
      "source": [
        "<a href=\"https://colab.research.google.com/github/vaniseth/Regular-Expressions/blob/main/Extraction_and_Word_Replacement_from_Server_Logs.ipynb\" target=\"_parent\"><img src=\"https://colab.research.google.com/assets/colab-badge.svg\" alt=\"Open In Colab\"/></a>"
      ]
    },
    {
      "cell_type": "markdown",
      "source": [
        "# **EXTRACTION AND WORD REPLACEMENT FROM SERVER LOGS**"
      ],
      "metadata": {
        "id": "uN6730x1CoLL"
      }
    },
    {
      "cell_type": "markdown",
      "source": [
        "# QUESTION MARK "
      ],
      "metadata": {
        "id": "PNFT1NpKCp8L"
      }
    },
    {
      "cell_type": "markdown",
      "source": [
        "Question mark ? is the option regex meaning 0 or 1 occurrence.\n",
        "\n",
        "Question mark ? can also be used in combination with other special characters and means something else.\n",
        "\n",
        "Asterisk * means 0 or more occurence of the preceding element.\n",
        "\n",
        "By default, the engine returns \"more occurences\" (greedy). If we want to force the 0 occurences, we use \"?\" after the \" * \" (non-greedy)"
      ],
      "metadata": {
        "id": "UBoczbD8Ct16"
      }
    },
    {
      "cell_type": "code",
      "source": [
        "import re"
      ],
      "metadata": {
        "id": "Pe8ye-U0CpAL"
      },
      "execution_count": 1,
      "outputs": []
    },
    {
      "cell_type": "code",
      "source": [
        "text = 'abcdefghujhg'"
      ],
      "metadata": {
        "id": "JM5UOu2nCvmT"
      },
      "execution_count": 2,
      "outputs": []
    },
    {
      "cell_type": "code",
      "source": [
        "re.findall('ab.*', text) \n",
        "\n",
        "# this means that we want ab and any character 0 or more occurence.\n",
        "# . means any charcter \n",
        "# * means 0 or more"
      ],
      "metadata": {
        "colab": {
          "base_uri": "https://localhost:8080/"
        },
        "id": "mYmi_fGqC0E2",
        "outputId": "ea155559-ab9d-43c4-cefb-4e02c18f11c5"
      },
      "execution_count": 3,
      "outputs": [
        {
          "output_type": "execute_result",
          "data": {
            "text/plain": [
              "['abcdefghujhg']"
            ]
          },
          "metadata": {},
          "execution_count": 3
        }
      ]
    },
    {
      "cell_type": "code",
      "source": [
        "re.findall('ab.*?', text)"
      ],
      "metadata": {
        "colab": {
          "base_uri": "https://localhost:8080/"
        },
        "id": "kq90QqPgC6pr",
        "outputId": "5e676bf5-17db-44ae-d7ee-41171963d40d"
      },
      "execution_count": 4,
      "outputs": [
        {
          "output_type": "execute_result",
          "data": {
            "text/plain": [
              "['ab']"
            ]
          },
          "metadata": {},
          "execution_count": 4
        }
      ]
    },
    {
      "cell_type": "code",
      "source": [
        "text1 = 'peter piper picked a peck of pickled peppers'"
      ],
      "metadata": {
        "id": "92qztfP1DLd_"
      },
      "execution_count": 6,
      "outputs": []
    },
    {
      "cell_type": "code",
      "source": [
        "re.findall('p.*e.*r', text1)  \n",
        "\n",
        "# here the regex engine searches for more occurences, i.e., basically all occurneces.\n",
        "# it's a greedy search here\n",
        "# all of it comes in one list so it searchs for the first p and then the first e and then more more more till the last r.\n",
        "# due to this reason list is only till pepper and not till peppers."
      ],
      "metadata": {
        "colab": {
          "base_uri": "https://localhost:8080/"
        },
        "id": "MbgJLhKBDSmE",
        "outputId": "e2ee347f-0565-4b87-e2a8-bb30d8c58b8f"
      },
      "execution_count": 7,
      "outputs": [
        {
          "output_type": "execute_result",
          "data": {
            "text/plain": [
              "['peter piper picked a peck of pickled pepper']"
            ]
          },
          "metadata": {},
          "execution_count": 7
        }
      ]
    },
    {
      "cell_type": "code",
      "source": [
        "re.findall('p.*?e.*?r', text1)\n",
        "\n",
        "# here we get a list of 3 elements as we are non greedy.\n",
        "# we wanted the element to contain p, e, and r but all in different elements.\n",
        "# so we apply the non-greedy approach here.\n",
        "# that is why we get peter, piper and the last string as in that the last element is r.\n",
        "# here it finds the p and then the e and then the r and then it stops \n",
        "# that is why there are 3 elements."
      ],
      "metadata": {
        "colab": {
          "base_uri": "https://localhost:8080/"
        },
        "id": "qXyuOlswDYWq",
        "outputId": "bf67cc8b-7332-43f4-e3ba-286324c88e83"
      },
      "execution_count": 8,
      "outputs": [
        {
          "output_type": "execute_result",
          "data": {
            "text/plain": [
              "['peter', 'piper', 'picked a peck of pickled pepper']"
            ]
          },
          "metadata": {},
          "execution_count": 8
        }
      ]
    },
    {
      "cell_type": "markdown",
      "source": [
        "# PROBLEM 1\n",
        "\n",
        "Find a match that starts with 'crypto', then matches at the most 30 arbitrary characters and match ends when the last word is 'coin'"
      ],
      "metadata": {
        "id": "VAJtnM-yDecq"
      }
    },
    {
      "cell_type": "code",
      "source": [
        "text = 'crypto-bot that is trading Bitcoin and other currencies.'\n",
        "\n",
        "# here we want a match when there are 30 characters between crypto and coin, if not then we don't want a match."
      ],
      "metadata": {
        "id": "ADdS3EChDbbg"
      },
      "execution_count": 9,
      "outputs": []
    },
    {
      "cell_type": "code",
      "source": [
        "re.match('crypto(.{1,30})coin', text)\n",
        "\n",
        "# the () after the crypto here creates a group\n",
        "# (.{1,30}) means that we want a group of any character ( . ) but from {1,30} 1 to 30 at the most.\n",
        "# then at the end we want coin so it's written after the group paranthesis."
      ],
      "metadata": {
        "colab": {
          "base_uri": "https://localhost:8080/"
        },
        "id": "pINC-RzkDjCc",
        "outputId": "b8a66f12-50d2-42f7-ef89-4ef613743d48"
      },
      "execution_count": 10,
      "outputs": [
        {
          "output_type": "execute_result",
          "data": {
            "text/plain": [
              "<re.Match object; span=(0, 34), match='crypto-bot that is trading Bitcoin'>"
            ]
          },
          "metadata": {},
          "execution_count": 10
        }
      ]
    },
    {
      "cell_type": "markdown",
      "source": [
        "# PROBLEM 2\n",
        "\n",
        "Given a string, find a list of all the occurences of dollar amounts with optional Regular Expressions decimal values."
      ],
      "metadata": {
        "id": "zML8F2HiDl8_"
      }
    },
    {
      "cell_type": "code",
      "source": [
        "text = '''\n",
        "If you invested $1 in the year 1801, you would have $18087791.41 today.\n",
        "This is a 7.967% return on investment.\n",
        "But if you invested only $0.25 in 1801, you would end up with $4521947.8525.\n",
        "'''"
      ],
      "metadata": {
        "id": "p2BhXD1HDkg8"
      },
      "execution_count": 11,
      "outputs": []
    },
    {
      "cell_type": "code",
      "source": [
        "# The problem statement says that we want all the occurence of the $ that is $1, $1801... and so on"
      ],
      "metadata": {
        "id": "GpG0FwW2Dqme"
      },
      "execution_count": 12,
      "outputs": []
    },
    {
      "cell_type": "code",
      "source": [
        "re.findall('(\\$[0-9]+(\\.[0-9]*)?)', text)\n",
        "\n",
        "# now here we create a group.\n",
        "# $ has a special meaning in Regex so to escape that and say that we want the actual character $ we use \\\n",
        "# after the dollar group we create another group for the point \n",
        "# we write (\\.[0-9]*) because we want all the character 0-9 and we want put the * becuase we want 0 or morre occurence of the nummbers after the point.\n",
        "# the ? is for the non-greedy approach."
      ],
      "metadata": {
        "colab": {
          "base_uri": "https://localhost:8080/"
        },
        "id": "xrn6U32ODsy2",
        "outputId": "b04ee7b0-d21d-44a0-c7c7-52b6a8849c6b"
      },
      "execution_count": 13,
      "outputs": [
        {
          "output_type": "execute_result",
          "data": {
            "text/plain": [
              "[('$1', ''),\n",
              " ('$18087791.41', '.41'),\n",
              " ('$0.25', '.25'),\n",
              " ('$4521947.8525', '.8525')]"
            ]
          },
          "metadata": {},
          "execution_count": 13
        }
      ]
    },
    {
      "cell_type": "code",
      "source": [
        "# this gives a list of tuples, first we have the dollar amount\n",
        "# and then we have the amoubt after the dollar sign"
      ],
      "metadata": {
        "id": "hCUPlA_8DuWo"
      },
      "execution_count": 14,
      "outputs": []
    },
    {
      "cell_type": "markdown",
      "source": [
        "# PROBLEM 3\n",
        "\n",
        "Replace Alice Wonderland with 'Alice Dow', but not to replace occurences of 'Alice Wonderland' when you see single quotes."
      ],
      "metadata": {
        "id": "vBGVjUU_Dwk6"
      }
    },
    {
      "cell_type": "markdown",
      "source": [
        "The problem statement wants to change Alice Wonderland to Alice Doe but if Alice Wonderland is in quotes then we don't want to change it."
      ],
      "metadata": {
        "id": "2vti4WLDD1M8"
      }
    },
    {
      "cell_type": "markdown",
      "source": [
        "**The negative lookahead.**\n",
        "\n",
        "Denoted by: ?!\n",
        "\n",
        "It means that we are going to look ahead of the current position and if we find the specific character then we are not going to do anything with it."
      ],
      "metadata": {
        "id": "lRITghMVD1_1"
      }
    },
    {
      "cell_type": "code",
      "source": [
        "text = '''\n",
        "Alice Wonderland married John Doe.\n",
        "The new name of former 'Alice Wonderland' is Alice Doe.\n",
        "Alice Wonderland replaces her old name 'Wonderland' with her name 'Doe'.\n",
        "Alice's sister Jane Wonderland still keeps her old name.\n",
        "'''"
      ],
      "metadata": {
        "id": "w-7GlH9JDv13"
      },
      "execution_count": 15,
      "outputs": []
    },
    {
      "cell_type": "code",
      "source": [
        "re.sub('Alice Wonderland(?!\\')', 'ALice Doe', text)\n",
        "\n",
        "# sub function is used for replacement but not if it's between quotes.\n",
        "# regex is ALice Winderland\n",
        "# and after that is the group which is a negative lookahead of the quote\n",
        "# \\' is used so that it does not think that it is the end of the regex"
      ],
      "metadata": {
        "colab": {
          "base_uri": "https://localhost:8080/",
          "height": 35
        },
        "id": "UNBEfq6eD5bT",
        "outputId": "af5085f8-97cb-419e-aac0-5ce4fda77850"
      },
      "execution_count": 16,
      "outputs": [
        {
          "output_type": "execute_result",
          "data": {
            "application/vnd.google.colaboratory.intrinsic+json": {
              "type": "string"
            },
            "text/plain": [
              "\"\\nALice Doe married John Doe.\\nThe new name of former 'Alice Wonderland' is Alice Doe.\\nALice Doe replaces her old name 'Wonderland' with her name 'Doe'.\\nAlice's sister Jane Wonderland still keeps her old name.\\n\""
            ]
          },
          "metadata": {},
          "execution_count": 16
        }
      ]
    },
    {
      "cell_type": "code",
      "source": [
        ""
      ],
      "metadata": {
        "id": "d--6ADQ3D60s"
      },
      "execution_count": null,
      "outputs": []
    }
  ]
}